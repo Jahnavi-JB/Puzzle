{
  "nbformat": 4,
  "nbformat_minor": 0,
  "metadata": {
    "colab": {
      "provenance": []
    },
    "kernelspec": {
      "name": "python3",
      "display_name": "Python 3"
    },
    "language_info": {
      "name": "python"
    }
  },
  "cells": [
    {
      "cell_type": "code",
      "execution_count": null,
      "metadata": {
        "id": "26HuX7I0Le5t"
      },
      "outputs": [],
      "source": [
        "import requests\n",
        "\n",
        "cookie = {\n",
        "    'session': '53616c7465645f5fad8cc311dfa885beaf2495e93505d18e19f1f45b428c5284ef8002defb9808712415d8f8af91cce540fb9bfdec815f7846f653fb517e3dbd'\n",
        "}\n",
        "\n",
        "url = \"https://adventofcode.com/2024/day/1/input\"\n",
        "response = requests.get(url, cookies=cookie)\n",
        "\n",
        "\n",
        "if response.status_code == 200:\n",
        "  input_data = response.text.strip().splitlines()\n",
        "\n",
        "  left_list = []\n",
        "  right_list = []\n",
        "\n",
        "  for line in input_data:\n",
        "      numbers = [int(num) for num in line.split()]\n",
        "\n",
        "      #print(f\"Numbers from line: {numbers}\")\n",
        "\n",
        "      if len(numbers) > 1:\n",
        "          left_list.append(numbers[0])\n",
        "          right_list.append(numbers[1])\n",
        "      elif len(numbers) == 1:\n",
        "            left_list.append(numbers[0])\n",
        "            right_list.append(numbers[0])\n",
        "      mid = len(numbers)\n",
        "      left_list.extend(numbers[:mid])\n",
        "      right_list.extend(numbers[mid:])\n",
        "\n",
        "  left_list.sort()\n",
        "  right_list.sort()\n",
        "\n",
        "  print(f\"Left list(Sorted): {left_list}\")\n",
        "  print(f\"Right list(Sorted): {right_list}\")\n",
        "\n",
        "  total_distance = 0\n",
        "  for l, r in zip(left_list, right_list):\n",
        "      total_distance += abs(l - r)\n",
        "\n",
        "  print(\"Total Distance:\", total_distance)\n",
        "else:\n",
        "    print(f\"Failed to fetch the input.Status code : {response.status_code}\")"
      ]
    }
  ]
}